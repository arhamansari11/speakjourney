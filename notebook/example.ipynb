{
 "cells": [
  {
   "cell_type": "code",
   "execution_count": null,
   "metadata": {
    "vscode": {
     "languageId": "plaintext"
    }
   },
   "outputs": [],
   "source": [
    "## Getting Started\n",
    "\n",
    "\n",
    "### Install Vertex AI SDK for Python\n",
    "\n",
    "\n",
    "! pip3 install --upgrade --user google-cloud-aiplatform\n",
    "\n",
    "### Restart current runtime\n",
    "\n",
    "To use the newly installed packages in this Jupyter runtime, it is recommended to restart the runtime. Run the following cell to restart the current kernel.\n",
    "\n",
    "The restart process might take a minute or so.\n",
    "\n",
    "\n",
    "import IPython\n",
    "\n",
    "app = IPython.Application.instance()\n",
    "app.kernel.do_shutdown(True)\n",
    "\n",
    "After the restart is complete, continue to the next step.\n",
    "\n",
    "\n",
    "<div class=\"alert alert-block alert-warning\">\n",
    "<b>⚠️ Wait for the kernel to finish restarting before you continue. ⚠️</b>\n",
    "</div>\n",
    "\n",
    "\n",
    "### Authenticate your notebook environment (Colab only)\n",
    "\n",
    "If you are running this notebook on Google Colab, run the following cell to authenticate your environment. This step is not required if you are using [Vertex AI Workbench](https://cloud.google.com/vertex-ai-workbench).\n",
    "\n",
    "\n",
    "import sys\n",
    "\n",
    "# Additional authentication is required for Google Colab\n",
    "if \"google.colab\" in sys.modules:\n",
    "    # Authenticate user to Google Cloud\n",
    "    from google.colab import auth\n",
    "\n",
    "    auth.authenticate_user()\n",
    "\n",
    "### Define Google Cloud project information (Colab only)\n",
    "\n",
    "If you are running this notebook on Google Colab, specify the Google Cloud project information to use. In the following cell, you specify your project information, import the Vertex AI package, and initialize the package. This step is not required if you are using [Vertex AI Workbench](https://cloud.google.com/vertex-ai-workbench).\n",
    "\n",
    "\n",
    "if \"google.colab\" in sys.modules:\n",
    "    # Define project information\n",
    "    PROJECT_ID = \"learned-vehicle-408217\"  # @param {type:\"string\"}\n",
    "    LOCATION = \"us-central1\"  # @param {type:\"string\"}\n",
    "\n",
    "    # Initialize Vertex AI\n",
    "    import vertexai\n",
    "\n",
    "    vertexai.init(project=PROJECT_ID, location=LOCATION)\n",
    "\n",
    "### Import libraries\n",
    "\n",
    "\n",
    "from vertexai.preview.generative_models import (\n",
    "    GenerationConfig,\n",
    "    GenerativeModel,\n",
    "    Image,\n",
    "    Part,\n",
    ")\n",
    "import re"
   ]
  },
  {
   "cell_type": "code",
   "execution_count": null,
   "metadata": {
    "vscode": {
     "languageId": "plaintext"
    }
   },
   "outputs": [],
   "source": [
    "generation_config = GenerationConfig(\n",
    "    temperature=0.9,\n",
    "    top_p=1.0,\n",
    "    top_k=32,\n",
    "    candidate_count=1,\n",
    "    max_output_tokens=8192,\n",
    ")\n",
    "\n",
    "prompt = \"\"\"\n",
    "Generate a factual list of the top 20 most visited countries in the world, ranked by the number of international tourist arrivals in the most recent year with available data.\n",
    "\n",
    "Format:\n",
    "\n",
    "List the countries in descending order of visitor numbers, starting with the most visited country.\n",
    "Include the capital for each country and the main language spoken.\n",
    "Present the information in a clear and concise bulleted list format.\n",
    "Additional Guidance:\n",
    "\n",
    "Strive for factual accuracy and precision in the generated list.\n",
    "Prioritize clarity and readability in the output format.\n",
    "If possible, cite the source of the data for transparency and credibility.\n",
    "Explanation:\n",
    "\n",
    "Clear Intent: The prompt explicitly states the desired output: a factual list of the most visited countries.\n",
    "Specific Requirements: It outlines the desired format (bulleted list), ranking criteria (visitor numbers), and scope (top 20 countries).\n",
    "Focus on Accuracy and Clarity: It emphasizes factual correctness and easy-to-understand presentation.\n",
    "Optional Data Source Citation: It suggests citing data sources for added credibility.\n",
    "\"\"\"\n",
    "\n",
    "responses = model.generate_content(\n",
    "    prompt,\n",
    "    # \"Enumarate the top 20 most visited cities in the world\",\n",
    "    generation_config=generation_config,\n",
    "    stream=True,\n",
    ")\n",
    "\n",
    "res = []\n",
    "countries = []\n",
    "full_text = \"\"\n",
    "\n",
    "for response in responses:\n",
    "    full_text = full_text + response.text\n",
    "\n",
    "countries = full_text.split('\\n\\n\\n')\n",
    "\n",
    "countries_list = []\n",
    "\n",
    "for country in countries:\n",
    "  if re.search(\"Capital\", country):\n",
    "    country_regex = r\"\\*\\*(.*?)\\*\\*\"\n",
    "    nation = re.search(country_regex, country)\n",
    "\n",
    "    country_name = nation.group(1) if nation else None\n",
    "\n",
    "    capital = re.findall(r\"Capital: (.+)\", country)[0].strip()\n",
    "    language = re.findall(r\"Main language: (.+)\", country)[0].strip()\n",
    "\n",
    "    countries_list.append({\n",
    "        \"country\": country_name,\n",
    "        \"capital\": capital,\n",
    "        \"language\": language,\n",
    "    })\n",
    "\n",
    "print(countries_list)"
   ]
  },
  {
   "cell_type": "code",
   "execution_count": null,
   "metadata": {
    "vscode": {
     "languageId": "plaintext"
    }
   },
   "outputs": [],
   "source": [
    "# We are going to choose one of them. For example the first one\n",
    "country = \"United States\"\n",
    "capital = \"New York\"\n",
    "language = \"English\"\n",
    "\n",
    "print(country)"
   ]
  },
  {
   "cell_type": "code",
   "execution_count": null,
   "metadata": {
    "vscode": {
     "languageId": "plaintext"
    }
   },
   "outputs": [],
   "source": [
    "prompt_names = \"\"\"\n",
    "Generate a factual list of the top 40 most used names in {} in the most recent year with available data.\n",
    "\n",
    "Format:\n",
    "\n",
    "List the names in descending order, starting with the most used name.\n",
    "Present the information in a clear and concise bulleted list format.\n",
    "\n",
    "Additional Guidance:\n",
    "\n",
    "Strive for factual accuracy and precision in the generated list.\n",
    "Prioritize clarity and readability in the output format.\n",
    "If possible, cite the source of the data for transparency and credibility.\n",
    "\n",
    "Explanation:\n",
    "\n",
    "Clear Intent: The prompt explicitly states the desired output: a factual list of the most visited countries.\n",
    "Specific Requirements: It outlines the desired format (bulleted list), ranking criteria (visitor numbers), and scope (top 20 countries).\n",
    "Focus on Accuracy and Clarity: It emphasizes factual correctness and easy-to-understand presentation.\n",
    "Optional Data Source Citation: It suggests citing data sources for added credibility.\n",
    "\"\"\".format(country)\n",
    "\n",
    "responses_names = model.generate_content(\n",
    "    prompt_names,\n",
    "    generation_config=generation_config,\n",
    "    stream=True,\n",
    ")\n",
    "\n",
    "full_names_text = \"\"\n",
    "\n",
    "for response in responses_names:\n",
    "  # print(response.text)\n",
    "  full_names_text = full_names_text + response.text\n"
   ]
  },
  {
   "cell_type": "code",
   "execution_count": null,
   "metadata": {
    "vscode": {
     "languageId": "plaintext"
    }
   },
   "outputs": [],
   "source": [
    "\n",
    "names = re.findall(r\"-\\s*(.+)\\n\", full_names_text)\n",
    "\n",
    "print(names)"
   ]
  },
  {
   "cell_type": "code",
   "execution_count": null,
   "metadata": {
    "vscode": {
     "languageId": "plaintext"
    }
   },
   "outputs": [],
   "source": [
    "prompt_places = \"\"\"\n",
    "Generate a factual list of the top 40 most visited places in the city {} of {} in the most recent year with available data.\n",
    "\n",
    "Format:\n",
    "\n",
    "List the place names in descending order, starting with the most used name.\n",
    "Present the information in a clear and concise bulleted list format.\n",
    "\n",
    "Additional Guidance:\n",
    "\n",
    "Strive for factual accuracy and precision in the generated list.\n",
    "Prioritize clarity and readability in the output format.\n",
    "If possible, cite the source of the data for transparency and credibility.\n",
    "\n",
    "Explanation:\n",
    "\n",
    "Clear Intent: The prompt explicitly states the desired output: a factual list of the most visited places.\n",
    "Specific Requirements: It outlines the desired format (bulleted list), ranking criteria (visitor numbers), and scope (top 40 places).\n",
    "Focus on Accuracy and Clarity: It emphasizes factual correctness and easy-to-understand presentation.\n",
    "Optional Data Source Citation: It suggests citing data sources for added credibility.\n",
    "\"\"\".format(capital, country)\n",
    "\n",
    "responses_places = model.generate_content(\n",
    "    prompt_places,\n",
    "    generation_config=generation_config,\n",
    "    stream=True,\n",
    ")\n",
    "\n",
    "full_names_places = \"\"\n",
    "\n",
    "for response in responses_places:\n",
    "  print(response.text)\n",
    "  full_names_places = full_names_places + response.text"
   ]
  },
  {
   "cell_type": "code",
   "execution_count": null,
   "metadata": {
    "vscode": {
     "languageId": "plaintext"
    }
   },
   "outputs": [],
   "source": [
    "places = re.findall(r\".\\t\\s*(.+)\\n\", full_names_places)\n",
    "\n",
    "print(places)"
   ]
  },
  {
   "cell_type": "code",
   "execution_count": null,
   "metadata": {
    "vscode": {
     "languageId": "plaintext"
    }
   },
   "outputs": [],
   "source": [
    "prompt_events = \"\"\"\n",
    "Generate a factual list of the top 40 most multicultural events in the city {} of {}.\n",
    "\n",
    "Format:\n",
    "\n",
    "List the events in descending order of visitor numbers, starting with the most visited country.\n",
    "Include the location for each event and the event category.\n",
    "Present the information in a clear and concise bulleted list format.\n",
    "Additional Guidance:\n",
    "\n",
    "Strive for factual accuracy and precision in the generated list.\n",
    "Prioritize clarity and readability in the output format.\n",
    "If possible, cite the source of the data for transparency and credibility.\n",
    "Explanation:\n",
    "\n",
    "Clear Intent: The prompt explicitly states the desired output: a factual list of the most visited events.\n",
    "Specific Requirements: It outlines the desired format (bulleted list), and scope (top 40 event).\n",
    "Focus on Accuracy and Clarity: It emphasizes factual correctness and easy-to-understand presentation.\n",
    "Optional Data Source Citation: It suggests citing data sources for added credibility.\n",
    "\"\"\".format(capital, country)\n",
    "\n",
    "responses_events = model.generate_content(\n",
    "    prompt_events,\n",
    "    generation_config=generation_config,\n",
    "    stream=True,\n",
    ")\n",
    "\n",
    "full_names_events = \"\"\n",
    "\n",
    "for response in responses_events:\n",
    "  print(response.text)\n",
    "  full_names_events = full_names_events + response.text\n"
   ]
  },
  {
   "cell_type": "code",
   "execution_count": null,
   "metadata": {
    "vscode": {
     "languageId": "plaintext"
    }
   },
   "outputs": [],
   "source": [
    "prompt_events = \"\"\"\n",
    "Generate a factual list of 40 multicultural events in the city {} of {}.\n",
    "\n",
    "Format:\n",
    "\n",
    "List the events in descending alphabet order.\n",
    "Include the location for each event and the event category.\n",
    "Present the information in a clear and concise bulleted list format.\n",
    "Additional Guidance:\n",
    "\n",
    "Strive for factual accuracy and precision in the generated list.\n",
    "Prioritize clarity and readability in the output format.\n",
    "If possible, cite the source of the data for transparency and credibility.\n",
    "Explanation:\n",
    "\n",
    "Clear Intent: The prompt explicitly states the desired output: a factual list of the events.\n",
    "Specific Requirements: It outlines the desired format (bulleted list), and scope (top 40 event).\n",
    "Focus on Accuracy and Clarity: It emphasizes factual correctness and easy-to-understand presentation.\n",
    "Optional Data Source Citation: It suggests citing data sources for added credibility.\n",
    "\"\"\".format(capital, country)\n",
    "\n",
    "responses_events = model.generate_content(\n",
    "    prompt_events,\n",
    "    generation_config=generation_config,\n",
    "    stream=True,\n",
    ")\n",
    "\n",
    "full_names_events = \"\"\n",
    "\n",
    "for response in responses_events:\n",
    "  print(response.text)\n",
    "  full_names_events = full_names_events + response.text\n"
   ]
  }
 ],
 "metadata": {
  "language_info": {
   "name": "python"
  }
 },
 "nbformat": 4,
 "nbformat_minor": 2
}
